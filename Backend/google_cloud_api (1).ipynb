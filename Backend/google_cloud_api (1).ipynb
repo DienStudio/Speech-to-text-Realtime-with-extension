{
 "cells": [
  {
   "cell_type": "code",
   "execution_count": 1,
   "metadata": {},
   "outputs": [
    {
     "name": "stdout",
     "output_type": "stream",
     "text": [
      "Collecting google-cloud-translate\n",
      "  Using cached google_cloud_translate-3.15.3-py2.py3-none-any.whl.metadata (5.3 kB)\n",
      "Collecting google-api-core!=2.0.*,!=2.1.*,!=2.10.*,!=2.2.*,!=2.3.*,!=2.4.*,!=2.5.*,!=2.6.*,!=2.7.*,!=2.8.*,!=2.9.*,<3.0.0dev,>=1.34.1 (from google-api-core[grpc]!=2.0.*,!=2.1.*,!=2.10.*,!=2.2.*,!=2.3.*,!=2.4.*,!=2.5.*,!=2.6.*,!=2.7.*,!=2.8.*,!=2.9.*,<3.0.0dev,>=1.34.1->google-cloud-translate)\n",
      "  Downloading google_api_core-2.18.0-py3-none-any.whl.metadata (2.7 kB)\n",
      "Requirement already satisfied: google-auth!=2.24.0,!=2.25.0,<3.0.0dev,>=2.14.1 in d:\\project_start_up\\.e\\lib\\site-packages (from google-cloud-translate) (2.28.1)\n",
      "Collecting google-cloud-core<3.0.0dev,>=1.4.4 (from google-cloud-translate)\n",
      "  Using cached google_cloud_core-2.4.1-py2.py3-none-any.whl.metadata (2.7 kB)\n",
      "Collecting proto-plus<2.0.0dev,>=1.22.3 (from google-cloud-translate)\n",
      "  Using cached proto_plus-1.23.0-py3-none-any.whl.metadata (2.2 kB)\n",
      "Requirement already satisfied: protobuf!=3.20.0,!=3.20.1,!=4.21.0,!=4.21.1,!=4.21.2,!=4.21.3,!=4.21.4,!=4.21.5,<5.0.0dev,>=3.19.5 in d:\\project_start_up\\.e\\lib\\site-packages (from google-cloud-translate) (4.25.3)\n",
      "Requirement already satisfied: googleapis-common-protos<2.0.dev0,>=1.56.2 in d:\\project_start_up\\.e\\lib\\site-packages (from google-api-core!=2.0.*,!=2.1.*,!=2.10.*,!=2.2.*,!=2.3.*,!=2.4.*,!=2.5.*,!=2.6.*,!=2.7.*,!=2.8.*,!=2.9.*,<3.0.0dev,>=1.34.1->google-api-core[grpc]!=2.0.*,!=2.1.*,!=2.10.*,!=2.2.*,!=2.3.*,!=2.4.*,!=2.5.*,!=2.6.*,!=2.7.*,!=2.8.*,!=2.9.*,<3.0.0dev,>=1.34.1->google-cloud-translate) (1.62.0)\n",
      "Requirement already satisfied: requests<3.0.0.dev0,>=2.18.0 in d:\\project_start_up\\.e\\lib\\site-packages (from google-api-core!=2.0.*,!=2.1.*,!=2.10.*,!=2.2.*,!=2.3.*,!=2.4.*,!=2.5.*,!=2.6.*,!=2.7.*,!=2.8.*,!=2.9.*,<3.0.0dev,>=1.34.1->google-api-core[grpc]!=2.0.*,!=2.1.*,!=2.10.*,!=2.2.*,!=2.3.*,!=2.4.*,!=2.5.*,!=2.6.*,!=2.7.*,!=2.8.*,!=2.9.*,<3.0.0dev,>=1.34.1->google-cloud-translate) (2.31.0)\n",
      "Collecting grpcio<2.0dev,>=1.33.2 (from google-api-core[grpc]!=2.0.*,!=2.1.*,!=2.10.*,!=2.2.*,!=2.3.*,!=2.4.*,!=2.5.*,!=2.6.*,!=2.7.*,!=2.8.*,!=2.9.*,<3.0.0dev,>=1.34.1->google-cloud-translate)\n",
      "  Downloading grpcio-1.62.1-cp311-cp311-win_amd64.whl.metadata (4.2 kB)\n",
      "Collecting grpcio-status<2.0.dev0,>=1.33.2 (from google-api-core[grpc]!=2.0.*,!=2.1.*,!=2.10.*,!=2.2.*,!=2.3.*,!=2.4.*,!=2.5.*,!=2.6.*,!=2.7.*,!=2.8.*,!=2.9.*,<3.0.0dev,>=1.34.1->google-cloud-translate)\n",
      "  Downloading grpcio_status-1.62.1-py3-none-any.whl.metadata (1.3 kB)\n",
      "Requirement already satisfied: cachetools<6.0,>=2.0.0 in d:\\project_start_up\\.e\\lib\\site-packages (from google-auth!=2.24.0,!=2.25.0,<3.0.0dev,>=2.14.1->google-cloud-translate) (4.2.4)\n",
      "Requirement already satisfied: pyasn1-modules>=0.2.1 in d:\\project_start_up\\.e\\lib\\site-packages (from google-auth!=2.24.0,!=2.25.0,<3.0.0dev,>=2.14.1->google-cloud-translate) (0.3.0)\n",
      "Requirement already satisfied: rsa<5,>=3.1.4 in d:\\project_start_up\\.e\\lib\\site-packages (from google-auth!=2.24.0,!=2.25.0,<3.0.0dev,>=2.14.1->google-cloud-translate) (4.9)\n",
      "Requirement already satisfied: pyasn1<0.6.0,>=0.4.6 in d:\\project_start_up\\.e\\lib\\site-packages (from pyasn1-modules>=0.2.1->google-auth!=2.24.0,!=2.25.0,<3.0.0dev,>=2.14.1->google-cloud-translate) (0.5.1)\n",
      "Requirement already satisfied: charset-normalizer<4,>=2 in d:\\project_start_up\\.e\\lib\\site-packages (from requests<3.0.0.dev0,>=2.18.0->google-api-core!=2.0.*,!=2.1.*,!=2.10.*,!=2.2.*,!=2.3.*,!=2.4.*,!=2.5.*,!=2.6.*,!=2.7.*,!=2.8.*,!=2.9.*,<3.0.0dev,>=1.34.1->google-api-core[grpc]!=2.0.*,!=2.1.*,!=2.10.*,!=2.2.*,!=2.3.*,!=2.4.*,!=2.5.*,!=2.6.*,!=2.7.*,!=2.8.*,!=2.9.*,<3.0.0dev,>=1.34.1->google-cloud-translate) (3.3.2)\n",
      "Requirement already satisfied: idna<4,>=2.5 in d:\\project_start_up\\.e\\lib\\site-packages (from requests<3.0.0.dev0,>=2.18.0->google-api-core!=2.0.*,!=2.1.*,!=2.10.*,!=2.2.*,!=2.3.*,!=2.4.*,!=2.5.*,!=2.6.*,!=2.7.*,!=2.8.*,!=2.9.*,<3.0.0dev,>=1.34.1->google-api-core[grpc]!=2.0.*,!=2.1.*,!=2.10.*,!=2.2.*,!=2.3.*,!=2.4.*,!=2.5.*,!=2.6.*,!=2.7.*,!=2.8.*,!=2.9.*,<3.0.0dev,>=1.34.1->google-cloud-translate) (2.10)\n",
      "Requirement already satisfied: urllib3<3,>=1.21.1 in d:\\project_start_up\\.e\\lib\\site-packages (from requests<3.0.0.dev0,>=2.18.0->google-api-core!=2.0.*,!=2.1.*,!=2.10.*,!=2.2.*,!=2.3.*,!=2.4.*,!=2.5.*,!=2.6.*,!=2.7.*,!=2.8.*,!=2.9.*,<3.0.0dev,>=1.34.1->google-api-core[grpc]!=2.0.*,!=2.1.*,!=2.10.*,!=2.2.*,!=2.3.*,!=2.4.*,!=2.5.*,!=2.6.*,!=2.7.*,!=2.8.*,!=2.9.*,<3.0.0dev,>=1.34.1->google-cloud-translate) (2.2.1)\n",
      "Requirement already satisfied: certifi>=2017.4.17 in d:\\project_start_up\\.e\\lib\\site-packages (from requests<3.0.0.dev0,>=2.18.0->google-api-core!=2.0.*,!=2.1.*,!=2.10.*,!=2.2.*,!=2.3.*,!=2.4.*,!=2.5.*,!=2.6.*,!=2.7.*,!=2.8.*,!=2.9.*,<3.0.0dev,>=1.34.1->google-api-core[grpc]!=2.0.*,!=2.1.*,!=2.10.*,!=2.2.*,!=2.3.*,!=2.4.*,!=2.5.*,!=2.6.*,!=2.7.*,!=2.8.*,!=2.9.*,<3.0.0dev,>=1.34.1->google-cloud-translate) (2024.2.2)\n",
      "Using cached google_cloud_translate-3.15.3-py2.py3-none-any.whl (145 kB)\n",
      "Downloading google_api_core-2.18.0-py3-none-any.whl (138 kB)\n",
      "   ---------------------------------------- 0.0/138.3 kB ? eta -:--:--\n",
      "   -------------------------------------- - 133.1/138.3 kB ? eta -:--:--\n",
      "   -------------------------------------- - 133.1/138.3 kB ? eta -:--:--\n",
      "   ---------------------------------------- 138.3/138.3 kB 1.4 MB/s eta 0:00:00\n",
      "Using cached google_cloud_core-2.4.1-py2.py3-none-any.whl (29 kB)\n",
      "Using cached proto_plus-1.23.0-py3-none-any.whl (48 kB)\n",
      "Downloading grpcio-1.62.1-cp311-cp311-win_amd64.whl (3.8 MB)\n",
      "   ---------------------------------------- 0.0/3.8 MB ? eta -:--:--\n",
      "   -- ------------------------------------- 0.2/3.8 MB 5.0 MB/s eta 0:00:01\n",
      "   --- ------------------------------------ 0.3/3.8 MB 5.5 MB/s eta 0:00:01\n",
      "   --------- ------------------------------ 0.9/3.8 MB 6.2 MB/s eta 0:00:01\n",
      "   --------- ------------------------------ 0.9/3.8 MB 4.8 MB/s eta 0:00:01\n",
      "   --------- ------------------------------ 0.9/3.8 MB 4.8 MB/s eta 0:00:01\n",
      "   ------------- -------------------------- 1.2/3.8 MB 4.4 MB/s eta 0:00:01\n",
      "   ----------------- ---------------------- 1.6/3.8 MB 4.7 MB/s eta 0:00:01\n",
      "   ------------------------------- -------- 3.0/3.8 MB 7.5 MB/s eta 0:00:01\n",
      "   ------------------------------------ --- 3.5/3.8 MB 7.9 MB/s eta 0:00:01\n",
      "   ---------------------------------------  3.8/3.8 MB 7.5 MB/s eta 0:00:01\n",
      "   ---------------------------------------  3.8/3.8 MB 7.6 MB/s eta 0:00:01\n",
      "   ---------------------------------------  3.8/3.8 MB 7.6 MB/s eta 0:00:01\n",
      "   ---------------------------------------  3.8/3.8 MB 7.6 MB/s eta 0:00:01\n",
      "   ---------------------------------------  3.8/3.8 MB 7.6 MB/s eta 0:00:01\n",
      "   ---------------------------------------  3.8/3.8 MB 7.6 MB/s eta 0:00:01\n",
      "   ---------------------------------------- 3.8/3.8 MB 4.9 MB/s eta 0:00:00\n",
      "Downloading grpcio_status-1.62.1-py3-none-any.whl (14 kB)\n",
      "Installing collected packages: proto-plus, grpcio, grpcio-status, google-api-core, google-cloud-core, google-cloud-translate\n",
      "  Attempting uninstall: google-api-core\n",
      "    Found existing installation: google-api-core 2.10.2\n",
      "    Uninstalling google-api-core-2.10.2:\n",
      "      Successfully uninstalled google-api-core-2.10.2\n",
      "Successfully installed google-api-core-2.18.0 google-cloud-core-2.4.1 google-cloud-translate-3.15.3 grpcio-1.62.1 grpcio-status-1.62.1 proto-plus-1.23.0\n"
     ]
    },
    {
     "name": "stderr",
     "output_type": "stream",
     "text": [
      "ERROR: pip's dependency resolver does not currently take into account all the packages that are installed. This behaviour is the source of the following dependency conflicts.\n",
      "private-django-googledrive-storage 1.6.0 requires google-auth<2,>=1.28.0, but you have google-auth 2.28.1 which is incompatible.\n"
     ]
    }
   ],
   "source": [
    "!pip install --upgrade google-cloud-translate\n"
   ]
  },
  {
   "cell_type": "code",
   "execution_count": 2,
   "metadata": {},
   "outputs": [
    {
     "name": "stdout",
     "output_type": "stream",
     "text": [
      "Collecting google-cloud-speech\n",
      "  Downloading google_cloud_speech-2.26.0-py2.py3-none-any.whl.metadata (5.2 kB)\n",
      "Requirement already satisfied: google-api-core!=2.0.*,!=2.1.*,!=2.10.*,!=2.2.*,!=2.3.*,!=2.4.*,!=2.5.*,!=2.6.*,!=2.7.*,!=2.8.*,!=2.9.*,<3.0.0dev,>=1.34.1 in d:\\project_start_up\\.e\\lib\\site-packages (from google-api-core[grpc]!=2.0.*,!=2.1.*,!=2.10.*,!=2.2.*,!=2.3.*,!=2.4.*,!=2.5.*,!=2.6.*,!=2.7.*,!=2.8.*,!=2.9.*,<3.0.0dev,>=1.34.1->google-cloud-speech) (2.18.0)\n",
      "Requirement already satisfied: google-auth!=2.24.0,!=2.25.0,<3.0.0dev,>=2.14.1 in d:\\project_start_up\\.e\\lib\\site-packages (from google-cloud-speech) (2.28.1)\n",
      "Requirement already satisfied: proto-plus<2.0.0dev,>=1.22.3 in d:\\project_start_up\\.e\\lib\\site-packages (from google-cloud-speech) (1.23.0)\n",
      "Requirement already satisfied: protobuf!=3.20.0,!=3.20.1,!=4.21.0,!=4.21.1,!=4.21.2,!=4.21.3,!=4.21.4,!=4.21.5,<5.0.0dev,>=3.19.5 in d:\\project_start_up\\.e\\lib\\site-packages (from google-cloud-speech) (4.25.3)\n",
      "Requirement already satisfied: googleapis-common-protos<2.0.dev0,>=1.56.2 in d:\\project_start_up\\.e\\lib\\site-packages (from google-api-core!=2.0.*,!=2.1.*,!=2.10.*,!=2.2.*,!=2.3.*,!=2.4.*,!=2.5.*,!=2.6.*,!=2.7.*,!=2.8.*,!=2.9.*,<3.0.0dev,>=1.34.1->google-api-core[grpc]!=2.0.*,!=2.1.*,!=2.10.*,!=2.2.*,!=2.3.*,!=2.4.*,!=2.5.*,!=2.6.*,!=2.7.*,!=2.8.*,!=2.9.*,<3.0.0dev,>=1.34.1->google-cloud-speech) (1.62.0)\n",
      "Requirement already satisfied: requests<3.0.0.dev0,>=2.18.0 in d:\\project_start_up\\.e\\lib\\site-packages (from google-api-core!=2.0.*,!=2.1.*,!=2.10.*,!=2.2.*,!=2.3.*,!=2.4.*,!=2.5.*,!=2.6.*,!=2.7.*,!=2.8.*,!=2.9.*,<3.0.0dev,>=1.34.1->google-api-core[grpc]!=2.0.*,!=2.1.*,!=2.10.*,!=2.2.*,!=2.3.*,!=2.4.*,!=2.5.*,!=2.6.*,!=2.7.*,!=2.8.*,!=2.9.*,<3.0.0dev,>=1.34.1->google-cloud-speech) (2.31.0)\n",
      "Requirement already satisfied: grpcio<2.0dev,>=1.33.2 in d:\\project_start_up\\.e\\lib\\site-packages (from google-api-core[grpc]!=2.0.*,!=2.1.*,!=2.10.*,!=2.2.*,!=2.3.*,!=2.4.*,!=2.5.*,!=2.6.*,!=2.7.*,!=2.8.*,!=2.9.*,<3.0.0dev,>=1.34.1->google-cloud-speech) (1.62.1)\n",
      "Requirement already satisfied: grpcio-status<2.0.dev0,>=1.33.2 in d:\\project_start_up\\.e\\lib\\site-packages (from google-api-core[grpc]!=2.0.*,!=2.1.*,!=2.10.*,!=2.2.*,!=2.3.*,!=2.4.*,!=2.5.*,!=2.6.*,!=2.7.*,!=2.8.*,!=2.9.*,<3.0.0dev,>=1.34.1->google-cloud-speech) (1.62.1)\n",
      "Requirement already satisfied: cachetools<6.0,>=2.0.0 in d:\\project_start_up\\.e\\lib\\site-packages (from google-auth!=2.24.0,!=2.25.0,<3.0.0dev,>=2.14.1->google-cloud-speech) (4.2.4)\n",
      "Requirement already satisfied: pyasn1-modules>=0.2.1 in d:\\project_start_up\\.e\\lib\\site-packages (from google-auth!=2.24.0,!=2.25.0,<3.0.0dev,>=2.14.1->google-cloud-speech) (0.3.0)\n",
      "Requirement already satisfied: rsa<5,>=3.1.4 in d:\\project_start_up\\.e\\lib\\site-packages (from google-auth!=2.24.0,!=2.25.0,<3.0.0dev,>=2.14.1->google-cloud-speech) (4.9)\n",
      "Requirement already satisfied: pyasn1<0.6.0,>=0.4.6 in d:\\project_start_up\\.e\\lib\\site-packages (from pyasn1-modules>=0.2.1->google-auth!=2.24.0,!=2.25.0,<3.0.0dev,>=2.14.1->google-cloud-speech) (0.5.1)\n",
      "Requirement already satisfied: charset-normalizer<4,>=2 in d:\\project_start_up\\.e\\lib\\site-packages (from requests<3.0.0.dev0,>=2.18.0->google-api-core!=2.0.*,!=2.1.*,!=2.10.*,!=2.2.*,!=2.3.*,!=2.4.*,!=2.5.*,!=2.6.*,!=2.7.*,!=2.8.*,!=2.9.*,<3.0.0dev,>=1.34.1->google-api-core[grpc]!=2.0.*,!=2.1.*,!=2.10.*,!=2.2.*,!=2.3.*,!=2.4.*,!=2.5.*,!=2.6.*,!=2.7.*,!=2.8.*,!=2.9.*,<3.0.0dev,>=1.34.1->google-cloud-speech) (3.3.2)\n",
      "Requirement already satisfied: idna<4,>=2.5 in d:\\project_start_up\\.e\\lib\\site-packages (from requests<3.0.0.dev0,>=2.18.0->google-api-core!=2.0.*,!=2.1.*,!=2.10.*,!=2.2.*,!=2.3.*,!=2.4.*,!=2.5.*,!=2.6.*,!=2.7.*,!=2.8.*,!=2.9.*,<3.0.0dev,>=1.34.1->google-api-core[grpc]!=2.0.*,!=2.1.*,!=2.10.*,!=2.2.*,!=2.3.*,!=2.4.*,!=2.5.*,!=2.6.*,!=2.7.*,!=2.8.*,!=2.9.*,<3.0.0dev,>=1.34.1->google-cloud-speech) (2.10)\n",
      "Requirement already satisfied: urllib3<3,>=1.21.1 in d:\\project_start_up\\.e\\lib\\site-packages (from requests<3.0.0.dev0,>=2.18.0->google-api-core!=2.0.*,!=2.1.*,!=2.10.*,!=2.2.*,!=2.3.*,!=2.4.*,!=2.5.*,!=2.6.*,!=2.7.*,!=2.8.*,!=2.9.*,<3.0.0dev,>=1.34.1->google-api-core[grpc]!=2.0.*,!=2.1.*,!=2.10.*,!=2.2.*,!=2.3.*,!=2.4.*,!=2.5.*,!=2.6.*,!=2.7.*,!=2.8.*,!=2.9.*,<3.0.0dev,>=1.34.1->google-cloud-speech) (2.2.1)\n",
      "Requirement already satisfied: certifi>=2017.4.17 in d:\\project_start_up\\.e\\lib\\site-packages (from requests<3.0.0.dev0,>=2.18.0->google-api-core!=2.0.*,!=2.1.*,!=2.10.*,!=2.2.*,!=2.3.*,!=2.4.*,!=2.5.*,!=2.6.*,!=2.7.*,!=2.8.*,!=2.9.*,<3.0.0dev,>=1.34.1->google-api-core[grpc]!=2.0.*,!=2.1.*,!=2.10.*,!=2.2.*,!=2.3.*,!=2.4.*,!=2.5.*,!=2.6.*,!=2.7.*,!=2.8.*,!=2.9.*,<3.0.0dev,>=1.34.1->google-cloud-speech) (2024.2.2)\n",
      "Downloading google_cloud_speech-2.26.0-py2.py3-none-any.whl (284 kB)\n",
      "   ---------------------------------------- 0.0/285.0 kB ? eta -:--:--\n",
      "   ----- --------------------------------- 41.0/285.0 kB 991.0 kB/s eta 0:00:01\n",
      "   ------------------ --------------------- 133.1/285.0 kB 1.6 MB/s eta 0:00:01\n",
      "   -------------------------------------- - 276.5/285.0 kB 2.4 MB/s eta 0:00:01\n",
      "   ---------------------------------------- 285.0/285.0 kB 1.5 MB/s eta 0:00:00\n",
      "Installing collected packages: google-cloud-speech\n",
      "Successfully installed google-cloud-speech-2.26.0\n"
     ]
    }
   ],
   "source": [
    "!pip install --upgrade google-cloud-speech"
   ]
  },
  {
   "cell_type": "code",
   "execution_count": 6,
   "metadata": {},
   "outputs": [],
   "source": [
    "from google.cloud import translate_v2 as translate\n",
    "import time\n",
    "\n",
    "# Khởi tạo đối tượng dịch với API key\n",
    "api_key = \"API-key"\n",
    "client = translate.Client(api_key)"
   ]
  },
  {
   "cell_type": "code",
   "execution_count": 7,
   "metadata": {},
   "outputs": [],
   "source": [
    "def translate_text(text, target_language):\n",
    "    start = time.time()\n",
    "    result = client.translate(text, target_language=target_language)\n",
    "    end = time.time()\n",
    "    print(f\"∟The whole process took {end - start:.1f} seconds.\")\n",
    "    print(f\"Original text: {text}\")\n",
    "    print(f\"Translated text: {result['translatedText']}\")"
   ]
  },
  {
   "cell_type": "code",
   "execution_count": 9,
   "metadata": {},
   "outputs": [
    {
     "name": "stdout",
     "output_type": "stream",
     "text": [
      "∟The whole process took 0.2 seconds.\n",
      "Original text: \n",
      "what is your name?\n",
      "\n",
      "Translated text: \n",
      "Tên của bạn là gì?\n",
      "\n"
     ]
    }
   ],
   "source": [
    "text = \"\"\"\n",
    "Google can’t translate these 3 languages, and we should be mildly concerned since disinformation and hate can spread freely in these languages with 0 oversight.\n",
    "Old English — this is the language that evolved into Middle English, and then into Modern English. It is the English of Beowulf, and up until 2000, it was a required language at Oxford. Should we be concerned that an elite, GenX group of Oxenians can say whatever they want on the Internet?\n",
    "Arabizi — or the Arabic Chat Alphabet is used primarily by millions of Arabs in the Levant, Egypt and Morocco. That it’s used in the Levant, and isn’t monitored at all by Meta should cause alarm, since it is one way that Hezbollah can communicate using flip phones or smartphones. Lack of monitoring of Arabizi definitely makes anti-terrorism efforts more difficult.\n",
    "Hokkien — a variety of Chinese spoken primarily in Taiwan that evades any sort of AI translation because it is unintelligible to Mandarin, the prestige dialect of China.\n",
    "Here’s a bit of an exercise. Think of all the viral misinformation one could post prior to 2017. Imagine that viral misinformation effecting the UK now. Imagine that viral misinformation effecting the Middle East and North Africa today. Imagine that viral misinformation effecting Taiwan. Now imagine the 1000s of languages spoken by millions that might not ever be AI translated in the next 5 years or so in 1000s of places around the earth.\n",
    "Imagine all the hateful things you’ve read on-line but were able to report and have taken down for inciting violence towards you. That is a respite unavailable for millions.\n",
    "These are political and humanitarian brushfires waiting to happen, and we have 0 transparency into all of them.\n",
    "What is to be done?\n",
    "Well, you’re in luck. I know languages and I can code. I can work as a localization engineer, contract linguist and translator. I can help build systems that look for the next credible threat. I do spend my days doing freelance journalism and working on my next novel, but please don’t let that stop you from contacting me on LinkedIn.\n",
    "On a more general level, we really need to encourage more people to learn more languages, and add more languages to AI translation. We need to do so in a way that increases security and fosters more communication between different linguistic groups.\n",
    "\"\"\"\n",
    "target_language = \"vi\"\n",
    "translate_text(text, target_language)"
   ]
  },
  {
   "cell_type": "code",
   "execution_count": null,
   "metadata": {},
   "outputs": [],
   "source": []
  }
 ],
 "metadata": {
  "kernelspec": {
   "display_name": "base",
   "language": "python",
   "name": "python3"
  },
  "language_info": {
   "codemirror_mode": {
    "name": "ipython",
    "version": 3
   },
   "file_extension": ".py",
   "mimetype": "text/x-python",
   "name": "python",
   "nbconvert_exporter": "python",
   "pygments_lexer": "ipython3",
   "version": "3.11.4"
  }
 },
 "nbformat": 4,
 "nbformat_minor": 2
}
